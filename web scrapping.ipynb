{
 "cells": [
  {
   "cell_type": "code",
   "execution_count": null,
   "metadata": {},
   "outputs": [],
   "source": [
    "from autoscraper import AutoScraper"
   ]
  },
  {
   "cell_type": "code",
   "execution_count": null,
   "metadata": {},
   "outputs": [],
   "source": [
    "amazon_url=\"https://www.amazon.in/s?k=iphones\"\n",
    "wanted_list=[\"Apple iPhone 13 (128GB) - Blue\",'₹71,990 ' ]"
   ]
  },
  {
   "cell_type": "code",
   "execution_count": null,
   "metadata": {},
   "outputs": [],
   "source": [
    "scraper=AutoScraper()"
   ]
  },
  {
   "cell_type": "code",
   "execution_count": null,
   "metadata": {},
   "outputs": [],
   "source": [
    "scraper=AutoScraper()\n",
    "result=scraper.build(amazon_url,wanted_list)\n",
    "print(result)"
   ]
  },
  {
   "cell_type": "code",
   "execution_count": null,
   "metadata": {},
   "outputs": [],
   "source": [
    "scraper.get_result_similar(amazon_url,grouped=True)"
   ]
  },
  {
   "cell_type": "code",
   "execution_count": null,
   "metadata": {},
   "outputs": [],
   "source": [
    "scraper.set_rule_aliases({'rule_pr2x':'Title','rule_ge3z':'price'})\n",
    "scraper.keep_rules(['rule_pr2x','rule_ge3z'])\n",
    "scraper.save('amazon-search')"
   ]
  },
  {
   "cell_type": "code",
   "execution_count": 54,
   "metadata": {},
   "outputs": [],
   "source": [
    "results=scraper.get_result_similar('https://www.amazon.in/s?k=google+pixel&crid=SCSXFNKO2SV1&sprefix=google+pixel%2Caps%2C353&ref=nb_sb_noss_1',group_by_alias=True)"
   ]
  },
  {
   "cell_type": "code",
   "execution_count": 56,
   "metadata": {},
   "outputs": [
    {
     "data": {
      "text/plain": [
       "['Google Pixel 6 5G (Sorta Seafoam, 8GB RAM, 128GB Storage)',\n",
       " 'Google Pixel 6 (Black, 8GB RAM, 128GB Storage)',\n",
       " 'Google Pixel 6 5G (Kinda Coral, 8GB RAM, 128GB Storage)',\n",
       " 'Google Pixel 3 XL (Just Black, 4GB RAM, 64GB Storage)',\n",
       " 'Google Pixel 3 XL (Not Pink, 64 GB) (4 GB RAM)',\n",
       " 'Google Pixel 6 Pro 5G (Cloudy White, 12GB RAM, 128GB Storage)',\n",
       " 'Generic 5a - Mobile - Black',\n",
       " 'Google Pixel 4 (Just Black, 6GB RAM, 64GB Storage)',\n",
       " 'Google Pixel 6 Pro 5G (Stromy Black, 12GB RAM, 128GB Storage)',\n",
       " 'Google Pixel 6 Pro (Sorta Sunny, 12GB RAM, 128GB Storage)',\n",
       " 'Google Pixel 4 XL (Clearly White, 64GB)',\n",
       " 'Google Pixel 4 XL - Clearly White - 64GB',\n",
       " 'Google Pixel 4 (Clearly White, 128GB) Phone',\n",
       " 'Google Pixel 2 XL (18:9 Display, 128 GB) Just Black',\n",
       " 'Google Pixel 6 Pro 5G (Stromy Black, 12GB RAM, 256GB Storage)',\n",
       " 'Google Pixel 6 Pro 5G (Stromy Black, 12GB RAM, 128GB Storage)']"
      ]
     },
     "execution_count": 56,
     "metadata": {},
     "output_type": "execute_result"
    }
   ],
   "source": [
    "results['Title']"
   ]
  },
  {
   "cell_type": "code",
   "execution_count": 57,
   "metadata": {},
   "outputs": [
    {
     "data": {
      "text/plain": [
       "['₹17,999',\n",
       " '₹24,999',\n",
       " '₹26,499',\n",
       " '₹32,999',\n",
       " '₹54,999',\n",
       " '₹74,999',\n",
       " '₹16,999',\n",
       " '₹18,999',\n",
       " '₹15,999',\n",
       " '₹19,999',\n",
       " '₹7,599',\n",
       " '₹9,999']"
      ]
     },
     "execution_count": 57,
     "metadata": {},
     "output_type": "execute_result"
    }
   ],
   "source": [
    "results['price']"
   ]
  },
  {
   "cell_type": "code",
   "execution_count": null,
   "metadata": {},
   "outputs": [],
   "source": []
  },
  {
   "cell_type": "code",
   "execution_count": null,
   "metadata": {},
   "outputs": [],
   "source": []
  }
 ],
 "metadata": {
  "interpreter": {
   "hash": "e817d3155c3d44ed214bd4eb17c292ab263c8e58021a816d6b372e40b4d29483"
  },
  "kernelspec": {
   "display_name": "Python 3.9.5 64-bit",
   "language": "python",
   "name": "python3"
  },
  "language_info": {
   "codemirror_mode": {
    "name": "ipython",
    "version": 3
   },
   "file_extension": ".py",
   "mimetype": "text/x-python",
   "name": "python",
   "nbconvert_exporter": "python",
   "pygments_lexer": "ipython3",
   "version": "3.9.5"
  },
  "orig_nbformat": 4
 },
 "nbformat": 4,
 "nbformat_minor": 2
}
